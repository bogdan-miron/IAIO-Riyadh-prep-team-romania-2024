{
  "cells": [
    {
      "cell_type": "markdown",
      "id": "eb6a1d71",
      "metadata": {
        "id": "eb6a1d71"
      },
      "source": [
        "# Comprehensive Introduction to Python\n",
        "This notebook covers the essentials of Python programming with practical examples and interactive exercises to ensure you grasp each concept."
      ]
    },
    {
      "cell_type": "markdown",
      "id": "53c62c99",
      "metadata": {
        "id": "53c62c99"
      },
      "source": [
        "## 1. Variables and Data Types\n",
        "### Examples of Variables\n",
        "Python supports various data types such as integers, floats, strings, and booleans. Here's how to use them:"
      ]
    },
    {
      "cell_type": "code",
      "execution_count": null,
      "id": "85d82a3b",
      "metadata": {
        "id": "85d82a3b"
      },
      "outputs": [],
      "source": [
        "# Integer and Float\n",
        "a = 10\n",
        "b = 3.14\n",
        "print(f'Integer: {a}, Float: {b}')\n",
        "\n",
        "# String\n",
        "name = 'Python'\n",
        "print(f'String: {name}')\n",
        "\n",
        "# Boolean\n",
        "is_fun = True\n",
        "print(f'Boolean: {is_fun}')"
      ]
    },
    {
      "cell_type": "markdown",
      "id": "e3dd366d",
      "metadata": {
        "id": "e3dd366d"
      },
      "source": [
        "### Type Conversion\n",
        "Convert between data types using functions like `int()`, `float()`, `str()`."
      ]
    },
    {
      "cell_type": "code",
      "execution_count": null,
      "id": "3596cbf9",
      "metadata": {
        "id": "3596cbf9"
      },
      "outputs": [],
      "source": [
        "# Type Conversion Examples\n",
        "x = 5  # Integer\n",
        "y = '10'  # String\n",
        "\n",
        "# Convert y to integer and add\n",
        "sum_result = x + int(y)\n",
        "print(f'Sum: {sum_result}')\n",
        "\n",
        "# Convert x to string and concatenate\n",
        "concat_result = str(x) + y\n",
        "print(f'Concatenation: {concat_result}')"
      ]
    },
    {
      "cell_type": "markdown",
      "id": "0eb2b391",
      "metadata": {
        "id": "0eb2b391"
      },
      "source": [
        "## 2. String Operations\n",
        "Strings in Python come with many built-in methods. Here's how you can manipulate them:"
      ]
    },
    {
      "cell_type": "code",
      "execution_count": null,
      "id": "a0cfdde4",
      "metadata": {
        "id": "a0cfdde4"
      },
      "outputs": [],
      "source": [
        "# String Methods\n",
        "s = ' Hello, Python! '\n",
        "print(s.strip())  # Remove spaces\n",
        "print(s.upper())  # Convert to uppercase\n",
        "print(s.lower())  # Convert to lowercase\n",
        "print(s.replace('Python', 'World'))  # Replace words\n",
        "print(s.split(','))  # Split into list"
      ]
    },
    {
      "cell_type": "markdown",
      "id": "2fe7c422",
      "metadata": {
        "id": "2fe7c422"
      },
      "source": [
        "## 3. Control Structures\n",
        "### Nested Conditions and Loops"
      ]
    },
    {
      "cell_type": "code",
      "execution_count": null,
      "id": "e1baac60",
      "metadata": {
        "id": "e1baac60"
      },
      "outputs": [],
      "source": [
        "# Example: Nested Loops\n",
        "for i in range(1, 4):\n",
        "    for j in range(1, 4):\n",
        "        print(f'i={i}, j={j}')"
      ]
    },
    {
      "cell_type": "markdown",
      "id": "7c9abefe",
      "metadata": {
        "id": "7c9abefe"
      },
      "source": [
        "## 4. Functions\n",
        "### Keyword Arguments and Default Values"
      ]
    },
    {
      "cell_type": "code",
      "execution_count": null,
      "id": "9d54420a",
      "metadata": {
        "id": "9d54420a"
      },
      "outputs": [],
      "source": [
        "# Function with Default and Keyword Arguments\n",
        "def greet(name, msg='Welcome!'):\n",
        "    print(f'{msg}, {name}')\n",
        "\n",
        "greet('Alice')\n",
        "greet('Bob', msg='Hello')"
      ]
    },
    {
      "cell_type": "markdown",
      "id": "5a224df5",
      "metadata": {
        "id": "5a224df5"
      },
      "source": [
        "## 5. Lists and List Comprehensions\n",
        "### Advanced List Operations"
      ]
    },
    {
      "cell_type": "code",
      "execution_count": null,
      "id": "0b85d23b",
      "metadata": {
        "id": "0b85d23b"
      },
      "outputs": [],
      "source": [
        "# Example: List Comprehensions\n",
        "nums = [1, 2, 3, 4, 5]\n",
        "squares = [x**2 for x in nums]\n",
        "print(f'Squares: {squares}')\n",
        "\n",
        "# Filtering using list comprehension\n",
        "evens = [x for x in nums if x % 2 == 0]\n",
        "print(f'Evens: {evens}')"
      ]
    },
    {
      "cell_type": "markdown",
      "id": "4216b6ea",
      "metadata": {
        "id": "4216b6ea"
      },
      "source": [
        "## 6. Dictionaries and Sets"
      ]
    },
    {
      "cell_type": "code",
      "execution_count": null,
      "id": "4c4b4204",
      "metadata": {
        "id": "4c4b4204"
      },
      "outputs": [],
      "source": [
        "# Working with Dictionaries and Sets\n",
        "students = {'Alice': 90, 'Bob': 85, 'Charlie': 95}\n",
        "print(students.keys())  # Get all keys\n",
        "print(students.values())  # Get all values\n",
        "\n",
        "unique_numbers = {1, 2, 3, 2, 1}\n",
        "print(f'Set: {unique_numbers}')"
      ]
    },
    {
      "cell_type": "markdown",
      "id": "2d2a52f3",
      "metadata": {
        "id": "2d2a52f3"
      },
      "source": [
        "## 7. File Handling\n",
        "Reading from and writing to files is straightforward in Python:"
      ]
    },
    {
      "cell_type": "code",
      "execution_count": null,
      "id": "443eac4f",
      "metadata": {
        "id": "443eac4f"
      },
      "outputs": [],
      "source": [
        "# Writing to a File\n",
        "with open('example.txt', 'w') as f:\n",
        "    f.write('Hello, File!')\n",
        "\n",
        "# Reading from a File\n",
        "with open('example.txt', 'r') as f:\n",
        "    content = f.read()\n",
        "print(content)"
      ]
    },
    {
      "cell_type": "markdown",
      "id": "fb6b0d10",
      "metadata": {
        "id": "fb6b0d10"
      },
      "source": [
        "## 8. Error Handling"
      ]
    },
    {
      "cell_type": "code",
      "execution_count": null,
      "id": "b4aa99be",
      "metadata": {
        "id": "b4aa99be"
      },
      "outputs": [],
      "source": [
        "# Example: Handling Division by Zero\n",
        "try:\n",
        "    result = 10 / 0\n",
        "except ZeroDivisionError as e:\n",
        "    print(f'Error: {e}')\n",
        "finally:\n",
        "    print('Execution Complete')"
      ]
    },
    {
      "cell_type": "markdown",
      "id": "ec2653e2",
      "metadata": {
        "id": "ec2653e2"
      },
      "source": [
        "## 9. Practice Problems\n",
        "### 1. Calculate Factorial\n",
        "Write a function that calculates the factorial of a number.\n",
        "\n",
        "### 2. Find Prime Numbers\n",
        "Write a program that prints all prime numbers in a range.\n",
        "\n",
        "### 3. Basic File Operations\n",
        "Write a Python program to count the number of lines in a text file."
      ]
    },
    {
      "cell_type": "markdown",
      "id": "c92cf526",
      "metadata": {
        "id": "c92cf526"
      },
      "source": [
        "## 10. Closing Thoughts\n",
        "Congratulations on completing this session! Keep practicing to strengthen your skills. Python opens doors to various exciting fields.\n",
        "\n",
        "**Additional Resources:**\n",
        "- [Python Official Documentation](https://docs.python.org/3/)\n",
        "- [Python Tutor](https://pythontutor.com/)\n",
        "\n",
        "Happy Coding!"
      ]
    }
  ],
  "metadata": {
    "colab": {
      "provenance": []
    }
  },
  "nbformat": 4,
  "nbformat_minor": 5
}