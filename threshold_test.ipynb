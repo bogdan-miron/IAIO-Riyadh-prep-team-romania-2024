{
 "cells": [
  {
   "cell_type": "code",
   "execution_count": 1,
   "id": "f7ead58b-bea8-4d04-9571-d77068a829e0",
   "metadata": {},
   "outputs": [],
   "source": [
    "import pandas as pd\n",
    "import numpy as np\n",
    "import seaborn as sns\n",
    "import matplotlib.pyplot as plt"
   ]
  },
  {
   "cell_type": "code",
   "execution_count": 3,
   "id": "cb6f1be7-1eb7-4bda-be6e-c6083b71b895",
   "metadata": {},
   "outputs": [
    {
     "name": "stdout",
     "output_type": "stream",
     "text": [
      "Requirement already satisfied: optuna in c:\\users\\retr0\\anaconda3\\lib\\site-packages (4.0.0)\n",
      "Requirement already satisfied: alembic>=1.5.0 in c:\\users\\retr0\\anaconda3\\lib\\site-packages (from optuna) (1.13.2)\n",
      "Requirement already satisfied: colorlog in c:\\users\\retr0\\anaconda3\\lib\\site-packages (from optuna) (6.8.2)\n",
      "Requirement already satisfied: numpy in c:\\users\\retr0\\anaconda3\\lib\\site-packages (from optuna) (1.26.4)\n",
      "Requirement already satisfied: packaging>=20.0 in c:\\users\\retr0\\anaconda3\\lib\\site-packages (from optuna) (23.2)\n",
      "Requirement already satisfied: sqlalchemy>=1.3.0 in c:\\users\\retr0\\anaconda3\\lib\\site-packages (from optuna) (2.0.30)\n",
      "Requirement already satisfied: tqdm in c:\\users\\retr0\\anaconda3\\lib\\site-packages (from optuna) (4.66.4)\n",
      "Requirement already satisfied: PyYAML in c:\\users\\retr0\\anaconda3\\lib\\site-packages (from optuna) (6.0.1)\n",
      "Requirement already satisfied: Mako in c:\\users\\retr0\\anaconda3\\lib\\site-packages (from alembic>=1.5.0->optuna) (1.3.5)\n",
      "Requirement already satisfied: typing-extensions>=4 in c:\\users\\retr0\\anaconda3\\lib\\site-packages (from alembic>=1.5.0->optuna) (4.11.0)\n",
      "Requirement already satisfied: greenlet!=0.4.17 in c:\\users\\retr0\\anaconda3\\lib\\site-packages (from sqlalchemy>=1.3.0->optuna) (3.0.1)\n",
      "Requirement already satisfied: colorama in c:\\users\\retr0\\anaconda3\\lib\\site-packages (from colorlog->optuna) (0.4.6)\n",
      "Requirement already satisfied: MarkupSafe>=0.9.2 in c:\\users\\retr0\\anaconda3\\lib\\site-packages (from Mako->alembic>=1.5.0->optuna) (2.1.3)\n",
      "Note: you may need to restart the kernel to use updated packages.\n"
     ]
    }
   ],
   "source": [
    "pip install optuna"
   ]
  },
  {
   "cell_type": "code",
   "execution_count": 5,
   "id": "5efc0d14-9422-44f4-8c6b-9f164a101ef1",
   "metadata": {},
   "outputs": [],
   "source": [
    "import warnings\n",
    "warnings.filterwarnings('ignore')"
   ]
  },
  {
   "cell_type": "code",
   "execution_count": 7,
   "id": "e362f5cb-b4ca-4199-b26b-52d7b0835d2d",
   "metadata": {},
   "outputs": [],
   "source": [
    "df = pd.read_csv('C:\\\\Users\\\\retr0\\\\Downloads\\\\financial-inclusion-in-africa-iaio-practice-challenge20240828-1156-gya18v\\\\Train.csv')"
   ]
  },
  {
   "cell_type": "code",
   "execution_count": 9,
   "id": "243e66ae-e6f9-4dc6-8c8e-eaf4c1e1c2ef",
   "metadata": {},
   "outputs": [],
   "source": [
    "df['bank_account'] = df['bank_account'].map({'Yes' : 1, 'No' : 0})"
   ]
  },
  {
   "cell_type": "code",
   "execution_count": 11,
   "id": "f70284cf-5ae4-4414-93f7-cb21d308a785",
   "metadata": {},
   "outputs": [],
   "source": [
    "df['year'] = df['year'] % 100"
   ]
  },
  {
   "cell_type": "code",
   "execution_count": 13,
   "id": "a510d0be-6915-418d-8b3a-d53436e52890",
   "metadata": {},
   "outputs": [],
   "source": [
    "df['cellphone_access'] = df['cellphone_access'].map({'Yes' : 1, 'No' : 0})"
   ]
  },
  {
   "cell_type": "code",
   "execution_count": 15,
   "id": "1820808b-03af-44e5-b528-2d3d02a29830",
   "metadata": {},
   "outputs": [
    {
     "data": {
      "text/plain": [
       "bank_account\n",
       "0    20212\n",
       "1     3312\n",
       "Name: count, dtype: int64"
      ]
     },
     "execution_count": 15,
     "metadata": {},
     "output_type": "execute_result"
    }
   ],
   "source": [
    "X = df.drop(['bank_account', 'uniqueid'], axis = 1)\n",
    "y = df['bank_account']\n",
    "y.value_counts()"
   ]
  },
  {
   "cell_type": "code",
   "execution_count": 17,
   "id": "18386868-a28b-46f7-b9e7-96b8e1a70a9b",
   "metadata": {},
   "outputs": [],
   "source": [
    "from catboost import CatBoostClassifier\n",
    "import optuna\n",
    "from sklearn.metrics import f1_score\n",
    "from sklearn.metrics import accuracy_score\n",
    "from sklearn.metrics import brier_score_loss"
   ]
  },
  {
   "cell_type": "code",
   "execution_count": 32,
   "id": "aa0e441f-3af7-4743-9fe5-32e6b55e0e59",
   "metadata": {},
   "outputs": [],
   "source": [
    "best_params = {\n",
    "    'objective' : 'Logloss',\n",
    "    'colsample_bylevel' : 0.0697200346162589,\n",
    "    'depth' : 7,\n",
    "    'boosting_type': 'Ordered',\n",
    "    'bootstrap_type' : 'MVS'\n",
    "}\n",
    "\n",
    "cat_features = ['country', 'location_type', 'gender_of_respondent', 'relationship_with_head', 'marital_status', 'education_level', 'job_type']"
   ]
  },
  {
   "cell_type": "code",
   "execution_count": 33,
   "id": "f7000d08-9b07-4e68-a2f2-a98b965e8c3a",
   "metadata": {},
   "outputs": [],
   "source": [
    "from sklearn.model_selection import StratifiedKFold\n",
    "\n",
    "skf = StratifiedKFold(n_splits = 5, shuffle = True, random_state = 42)\n",
    "\n",
    "for train_index, test_index in skf.split(X, y):\n",
    "    X_train, X_test = X.iloc[train_index], X.iloc[test_index]\n",
    "    y_train, y_test = y.iloc[train_index], y.iloc[test_index]\n",
    "\n",
    "    break"
   ]
  },
  {
   "cell_type": "code",
   "execution_count": 19,
   "id": "e37ccc3f-b5f4-4a35-a7eb-9bf2e1cfa623",
   "metadata": {},
   "outputs": [
    {
     "data": {
      "text/plain": [
       "bank_account\n",
       "0    20212\n",
       "1     3312\n",
       "Name: count, dtype: int64"
      ]
     },
     "execution_count": 19,
     "metadata": {},
     "output_type": "execute_result"
    }
   ],
   "source": [
    "y.value_counts()"
   ]
  },
  {
   "cell_type": "code",
   "execution_count": 23,
   "id": "23c7c44a-08bd-47a5-9e0e-59dee974a62b",
   "metadata": {},
   "outputs": [
    {
     "name": "stderr",
     "output_type": "stream",
     "text": [
      "[I 2024-09-02 18:05:23,455] A new study created in memory with name: no-name-da0ee189-cf78-401c-82d0-ffb3b46b528f\n",
      "[I 2024-09-02 18:06:35,778] Trial 0 finished with value: 0.08473805569362979 and parameters: {'objective': 'Logloss', 'colsample_bylevel': 0.04660844781293266, 'depth': 6, 'boosting_type': 'Plain', 'bootstrap_type': 'MVS'}. Best is trial 0 with value: 0.08473805569362979.\n"
     ]
    },
    {
     "name": "stdout",
     "output_type": "stream",
     "text": [
      "Brier score: 0.08473805569362979, F1_score: 0.45052048982566084\n"
     ]
    },
    {
     "name": "stderr",
     "output_type": "stream",
     "text": [
      "[I 2024-09-02 18:08:04,197] Trial 1 finished with value: 0.08578491728078695 and parameters: {'objective': 'CrossEntropy', 'colsample_bylevel': 0.04698809206891366, 'depth': 4, 'boosting_type': 'Ordered', 'bootstrap_type': 'MVS'}. Best is trial 0 with value: 0.08473805569362979.\n"
     ]
    },
    {
     "name": "stdout",
     "output_type": "stream",
     "text": [
      "Brier score: 0.08578491728078695, F1_score: 0.43811971236285796\n"
     ]
    },
    {
     "name": "stderr",
     "output_type": "stream",
     "text": [
      "[I 2024-09-02 18:09:01,618] Trial 2 finished with value: 0.08917619346690196 and parameters: {'objective': 'CrossEntropy', 'colsample_bylevel': 0.026464272379018938, 'depth': 7, 'boosting_type': 'Plain', 'bootstrap_type': 'Bernoulli', 'subsample': 0.9041928497346181}. Best is trial 0 with value: 0.08473805569362979.\n"
     ]
    },
    {
     "name": "stdout",
     "output_type": "stream",
     "text": [
      "Brier score: 0.08917619346690196, F1_score: 0.3695275615418421\n"
     ]
    },
    {
     "name": "stderr",
     "output_type": "stream",
     "text": [
      "[I 2024-09-02 18:10:43,379] Trial 3 finished with value: 0.08546273035981741 and parameters: {'objective': 'Logloss', 'colsample_bylevel': 0.054854247642866207, 'depth': 12, 'boosting_type': 'Ordered', 'bootstrap_type': 'Bayesian', 'bagging_temperature': 9.08788752968831}. Best is trial 0 with value: 0.08473805569362979.\n"
     ]
    },
    {
     "name": "stdout",
     "output_type": "stream",
     "text": [
      "Brier score: 0.08546273035981741, F1_score: 0.4449565884226758\n"
     ]
    },
    {
     "name": "stderr",
     "output_type": "stream",
     "text": [
      "[I 2024-09-02 18:11:57,006] Trial 4 finished with value: 0.08514368674134232 and parameters: {'objective': 'Logloss', 'colsample_bylevel': 0.07230070233684334, 'depth': 3, 'boosting_type': 'Plain', 'bootstrap_type': 'Bayesian', 'bagging_temperature': 2.1580719297052853}. Best is trial 0 with value: 0.08473805569362979.\n"
     ]
    },
    {
     "name": "stdout",
     "output_type": "stream",
     "text": [
      "Brier score: 0.08514368674134232, F1_score: 0.45242649185854056\n"
     ]
    },
    {
     "name": "stderr",
     "output_type": "stream",
     "text": [
      "[I 2024-09-02 18:12:54,708] Trial 5 finished with value: 0.09690731362912422 and parameters: {'objective': 'CrossEntropy', 'colsample_bylevel': 0.013963229359847937, 'depth': 7, 'boosting_type': 'Plain', 'bootstrap_type': 'Bernoulli', 'subsample': 0.37367085128989797}. Best is trial 0 with value: 0.08473805569362979.\n"
     ]
    },
    {
     "name": "stdout",
     "output_type": "stream",
     "text": [
      "Brier score: 0.09690731362912422, F1_score: 0.13982052329729705\n"
     ]
    },
    {
     "name": "stderr",
     "output_type": "stream",
     "text": [
      "[I 2024-09-02 18:13:52,450] Trial 6 finished with value: 0.09990317232753106 and parameters: {'objective': 'CrossEntropy', 'colsample_bylevel': 0.010721705235785237, 'depth': 2, 'boosting_type': 'Plain', 'bootstrap_type': 'Bernoulli', 'subsample': 0.1892683493957777}. Best is trial 0 with value: 0.08473805569362979.\n"
     ]
    },
    {
     "name": "stdout",
     "output_type": "stream",
     "text": [
      "Brier score: 0.09990317232753106, F1_score: 0.05802621998586227\n"
     ]
    },
    {
     "name": "stderr",
     "output_type": "stream",
     "text": [
      "[I 2024-09-02 18:16:02,956] Trial 7 finished with value: 0.08346119321597481 and parameters: {'objective': 'CrossEntropy', 'colsample_bylevel': 0.09821629423091673, 'depth': 6, 'boosting_type': 'Ordered', 'bootstrap_type': 'MVS'}. Best is trial 7 with value: 0.08346119321597481.\n"
     ]
    },
    {
     "name": "stdout",
     "output_type": "stream",
     "text": [
      "Brier score: 0.08346119321597481, F1_score: 0.4714477278449771\n"
     ]
    },
    {
     "name": "stderr",
     "output_type": "stream",
     "text": [
      "[I 2024-09-02 18:17:10,261] Trial 8 finished with value: 0.08532240820289481 and parameters: {'objective': 'Logloss', 'colsample_bylevel': 0.04443946724438158, 'depth': 10, 'boosting_type': 'Plain', 'bootstrap_type': 'Bayesian', 'bagging_temperature': 6.637502507949776}. Best is trial 7 with value: 0.08346119321597481.\n"
     ]
    },
    {
     "name": "stdout",
     "output_type": "stream",
     "text": [
      "Brier score: 0.08532240820289481, F1_score: 0.44441460363417323\n"
     ]
    },
    {
     "name": "stderr",
     "output_type": "stream",
     "text": [
      "[I 2024-09-02 18:18:12,808] Trial 9 finished with value: 0.08721881715855576 and parameters: {'objective': 'CrossEntropy', 'colsample_bylevel': 0.033553088089358474, 'depth': 12, 'boosting_type': 'Plain', 'bootstrap_type': 'Bernoulli', 'subsample': 0.18687090337324577}. Best is trial 7 with value: 0.08346119321597481.\n"
     ]
    },
    {
     "name": "stdout",
     "output_type": "stream",
     "text": [
      "Brier score: 0.08721881715855576, F1_score: 0.40371433136793977\n"
     ]
    },
    {
     "name": "stderr",
     "output_type": "stream",
     "text": [
      "[I 2024-09-02 18:20:52,776] Trial 10 finished with value: 0.08348749470263624 and parameters: {'objective': 'CrossEntropy', 'colsample_bylevel': 0.09989081328666344, 'depth': 9, 'boosting_type': 'Ordered', 'bootstrap_type': 'MVS'}. Best is trial 7 with value: 0.08346119321597481.\n"
     ]
    },
    {
     "name": "stdout",
     "output_type": "stream",
     "text": [
      "Brier score: 0.08348749470263624, F1_score: 0.475549996255741\n"
     ]
    },
    {
     "name": "stderr",
     "output_type": "stream",
     "text": [
      "[W 2024-09-02 18:21:10,924] Trial 11 failed with parameters: {'objective': 'CrossEntropy', 'colsample_bylevel': 0.09979614171366492, 'depth': 9, 'boosting_type': 'Ordered', 'bootstrap_type': 'MVS'} because of the following error: KeyboardInterrupt('').\n",
      "Traceback (most recent call last):\n",
      "  File \"C:\\Users\\retr0\\anaconda3\\Lib\\site-packages\\optuna\\study\\_optimize.py\", line 197, in _run_trial\n",
      "    value_or_values = func(trial)\n",
      "                      ^^^^^^^^^^^\n",
      "  File \"C:\\Users\\retr0\\AppData\\Local\\Temp\\ipykernel_38524\\2942640160.py\", line 27, in objective\n",
      "    model.fit(X_train, y_train)\n",
      "  File \"C:\\Users\\retr0\\anaconda3\\Lib\\site-packages\\catboost\\core.py\", line 5220, in fit\n",
      "    self._fit(X, y, cat_features, text_features, embedding_features, None, sample_weight, None, None, None, None, baseline, use_best_model,\n",
      "  File \"C:\\Users\\retr0\\anaconda3\\Lib\\site-packages\\catboost\\core.py\", line 2400, in _fit\n",
      "    self._train(\n",
      "  File \"C:\\Users\\retr0\\anaconda3\\Lib\\site-packages\\catboost\\core.py\", line 1780, in _train\n",
      "    self._object._train(train_pool, test_pool, params, allow_clear_pool, init_model._object if init_model else None)\n",
      "  File \"_catboost.pyx\", line 4833, in _catboost._CatBoost._train\n",
      "  File \"_catboost.pyx\", line 4882, in _catboost._CatBoost._train\n",
      "KeyboardInterrupt\n",
      "[W 2024-09-02 18:21:10,929] Trial 11 failed with value None.\n",
      "\n",
      "KeyboardInterrupt\n",
      "\n"
     ]
    }
   ],
   "source": [
    "from sklearn.model_selection import StratifiedKFold\n",
    "skf = StratifiedKFold(n_splits = 5, random_state = 42, shuffle = True)\n",
    "\n",
    "def objective(trial):\n",
    "    param = {\n",
    "        \"objective\": trial.suggest_categorical(\"objective\", [\"Logloss\", \"CrossEntropy\"]),\n",
    "        \"colsample_bylevel\": trial.suggest_float(\"colsample_bylevel\", 0.01, 0.1),\n",
    "        \"depth\": trial.suggest_int(\"depth\", 1, 12),\n",
    "        \"boosting_type\": trial.suggest_categorical(\"boosting_type\", [\"Ordered\", \"Plain\"]),\n",
    "        \"bootstrap_type\": trial.suggest_categorical(\n",
    "            \"bootstrap_type\", [\"Bayesian\", \"Bernoulli\", \"MVS\"]\n",
    "        )\n",
    "    }\n",
    "    if param[\"bootstrap_type\"] == \"Bayesian\":\n",
    "        param[\"bagging_temperature\"] = trial.suggest_float(\"bagging_temperature\", 0, 10)\n",
    "    elif param[\"bootstrap_type\"] == \"Bernoulli\":\n",
    "        param[\"subsample\"] = trial.suggest_float(\"subsample\", 0.1, 1)\n",
    "\n",
    "    brier_scores = []\n",
    "    f1_scores = []\n",
    "    for train_index, test_index in skf.split(X, y):\n",
    "        X_train, X_test = X.iloc[train_index], X.iloc[test_index]\n",
    "        y_train, y_test = y.iloc[train_index], y.iloc[test_index]\n",
    "\n",
    "        cat_features = ['country', 'location_type', 'gender_of_respondent', 'relationship_with_head', 'marital_status', 'education_level', 'job_type']\n",
    "        model = CatBoostClassifier(**param, cat_features = cat_features, verbose = False)\n",
    "        model.fit(X_train, y_train)\n",
    "\n",
    "        y_preds_proba = model.predict_proba(X_test)[:, 1]\n",
    "        y_preds = model.predict(X_test)\n",
    "        brier = brier_score_loss(y_test, y_preds_proba)\n",
    "        f1 = f1_score(y_test, y_preds)\n",
    "        f1_scores.append(f1)\n",
    "        # print(brier)\n",
    "        brier_scores.append(brier)\n",
    "    print(f'Brier score: {np.mean(brier_scores)}, F1_score: {np.mean(f1_scores)}')\n",
    "    return np.mean(brier_scores)\n",
    "\n",
    "study = optuna.create_study(direction = 'minimize')\n",
    "study.optimize(objective, n_trials = 25)\n",
    "\n",
    "best_params = study.best_params\n",
    "print(best_params)"
   ]
  },
  {
   "cell_type": "code",
   "execution_count": 27,
   "id": "79f0c5b3-a8a6-4219-a6cb-9480ccb471b7",
   "metadata": {},
   "outputs": [],
   "source": [
    "best_params = {'objective': 'CrossEntropy', 'colsample_bylevel': 0.09821629423091673, 'depth': 6, 'boosting_type': 'Ordered', 'bootstrap_type': 'MVS'}"
   ]
  },
  {
   "cell_type": "code",
   "execution_count": 35,
   "id": "e6dd4113-3950-4c85-b8b1-45d2e7fdbb2f",
   "metadata": {},
   "outputs": [
    {
     "data": {
      "text/plain": [
       "<catboost.core.CatBoostClassifier at 0x19bd05ee3c0>"
      ]
     },
     "execution_count": 35,
     "metadata": {},
     "output_type": "execute_result"
    }
   ],
   "source": [
    "cat_features = ['country', 'location_type', 'gender_of_respondent', 'relationship_with_head', 'marital_status', 'education_level', 'job_type']\n",
    "model = CatBoostClassifier(**best_params, verbose = False, cat_features = cat_features)\n",
    "model.fit(X_train, y_train)"
   ]
  },
  {
   "cell_type": "code",
   "execution_count": 37,
   "id": "5f32ee14-cb6e-470f-bc3c-aab6a2422f58",
   "metadata": {},
   "outputs": [
    {
     "name": "stdout",
     "output_type": "stream",
     "text": [
      "0.887778958554729\n",
      "0.887778958554729\n",
      "0.4634146341463415\n"
     ]
    }
   ],
   "source": [
    "model.predict(X_test)\n",
    "print(model.score(X_test, y_test))\n",
    "y_preds = model.predict(X_test)\n",
    "print(accuracy_score(y_preds, y_test))\n",
    "print(f1_score(y_preds, y_test))"
   ]
  },
  {
   "cell_type": "code",
   "execution_count": 92,
   "id": "226a64e8-caca-467f-9f0c-b5ca27f8468b",
   "metadata": {},
   "outputs": [
    {
     "data": {
      "image/png": "[encoded data removed]",
      "text/plain": [
       "<Figure size 1000x600 with 1 Axes>"
      ]
     },
     "metadata": {},
     "output_type": "display_data"
    }
   ],
   "source": [
    "plt.figure(figsize = (10, 6))\n",
    "sns.histplot(y_preds, color = 'red', bins = 30)\n",
    "plt.show()"
   ]
  },
  {
   "cell_type": "code",
   "execution_count": 39,
   "id": "4023624c-dcda-4f53-9920-b5771764b502",
   "metadata": {},
   "outputs": [
    {
     "data": {
      "text/plain": [
       "array([0.1 , 0.11, 0.12, 0.13, 0.14, 0.15, 0.16, 0.17, 0.18, 0.19, 0.2 ,\n",
       "       0.21, 0.22, 0.23, 0.24, 0.25, 0.26, 0.27, 0.28, 0.29, 0.3 , 0.31,\n",
       "       0.32, 0.33, 0.34, 0.35, 0.36, 0.37, 0.38, 0.39, 0.4 , 0.41, 0.42,\n",
       "       0.43, 0.44, 0.45, 0.46, 0.47, 0.48, 0.49, 0.5 , 0.51, 0.52, 0.53,\n",
       "       0.54, 0.55, 0.56, 0.57, 0.58, 0.59, 0.6 , 0.61, 0.62, 0.63, 0.64,\n",
       "       0.65, 0.66, 0.67, 0.68, 0.69, 0.7 , 0.71, 0.72, 0.73, 0.74, 0.75,\n",
       "       0.76, 0.77, 0.78, 0.79, 0.8 , 0.81, 0.82, 0.83, 0.84, 0.85, 0.86,\n",
       "       0.87, 0.88, 0.89])"
      ]
     },
     "execution_count": 39,
     "metadata": {},
     "output_type": "execute_result"
    }
   ],
   "source": [
    "predicted_probabilities = model.predict_proba(X_test)[:, 1]\n",
    "thresholds = np.arange(0.1, 0.9, 0.01)\n",
    "thresholds"
   ]
  },
  {
   "cell_type": "code",
   "execution_count": 43,
   "id": "6dfb312b-e0e4-44e7-ab61-cf2aca51ad99",
   "metadata": {},
   "outputs": [
    {
     "name": "stdout",
     "output_type": "stream",
     "text": [
      "F1_score : 0.47418244406196214, Brier_score: 0.08440560982059443 for the threshold: 0.1\n",
      "F1_score : 0.48334833483348333, Brier_score: 0.08440560982059443 for the threshold: 0.11\n",
      "F1_score : 0.49764816556914393, Brier_score: 0.08440560982059443 for the threshold: 0.12\n",
      "F1_score : 0.5037110341415141, Brier_score: 0.08440560982059443 for the threshold: 0.13\n",
      "F1_score : 0.5232375979112271, Brier_score: 0.08440560982059443 for the threshold: 0.13999999999999999\n",
      "F1_score : 0.5315068493150685, Brier_score: 0.08440560982059443 for the threshold: 0.14999999999999997\n",
      "F1_score : 0.538678712591756, Brier_score: 0.08440560982059443 for the threshold: 0.15999999999999998\n",
      "F1_score : 0.5424721734036321, Brier_score: 0.08440560982059443 for the threshold: 0.16999999999999998\n",
      "F1_score : 0.548714883442917, Brier_score: 0.08440560982059443 for the threshold: 0.17999999999999997\n",
      "F1_score : 0.5544554455445545, Brier_score: 0.08440560982059443 for the threshold: 0.18999999999999995\n",
      "F1_score : 0.5509816339455351, Brier_score: 0.08440560982059443 for the threshold: 0.19999999999999996\n",
      "F1_score : 0.5553398058252427, Brier_score: 0.08440560982059443 for the threshold: 0.20999999999999996\n",
      "F1_score : 0.5532759761747187, Brier_score: 0.08440560982059443 for the threshold: 0.21999999999999995\n",
      "F1_score : 0.5535353535353535, Brier_score: 0.08440560982059443 for the threshold: 0.22999999999999995\n",
      "F1_score : 0.5574673090158293, Brier_score: 0.08440560982059443 for the threshold: 0.23999999999999994\n",
      "F1_score : 0.5587614356087263, Brier_score: 0.08440560982059443 for the threshold: 0.24999999999999992\n",
      "F1_score : 0.5598845598845599, Brier_score: 0.08440560982059443 for the threshold: 0.2599999999999999\n",
      "F1_score : 0.557280118255728, Brier_score: 0.08440560982059443 for the threshold: 0.2699999999999999\n",
      "F1_score : 0.5541256623769871, Brier_score: 0.08440560982059443 for the threshold: 0.2799999999999999\n",
      "F1_score : 0.5495356037151703, Brier_score: 0.08440560982059443 for the threshold: 0.2899999999999999\n",
      "F1_score : 0.5476003147128246, Brier_score: 0.08440560982059443 for the threshold: 0.29999999999999993\n",
      "F1_score : 0.5458937198067633, Brier_score: 0.08440560982059443 for the threshold: 0.30999999999999994\n",
      "F1_score : 0.5397867104183757, Brier_score: 0.08440560982059443 for the threshold: 0.3199999999999999\n",
      "F1_score : 0.5382059800664452, Brier_score: 0.08440560982059443 for the threshold: 0.32999999999999985\n",
      "F1_score : 0.5365853658536586, Brier_score: 0.08440560982059443 for the threshold: 0.33999999999999986\n",
      "F1_score : 0.5366269165247018, Brier_score: 0.08440560982059443 for the threshold: 0.34999999999999987\n",
      "F1_score : 0.5280414150129422, Brier_score: 0.08440560982059443 for the threshold: 0.3599999999999999\n",
      "F1_score : 0.5244755244755245, Brier_score: 0.08440560982059443 for the threshold: 0.3699999999999999\n",
      "F1_score : 0.5178571428571429, Brier_score: 0.08440560982059443 for the threshold: 0.3799999999999999\n",
      "F1_score : 0.5126353790613718, Brier_score: 0.08440560982059443 for the threshold: 0.3899999999999999\n",
      "F1_score : 0.5095890410958904, Brier_score: 0.08440560982059443 for the threshold: 0.3999999999999998\n",
      "F1_score : 0.5018518518518519, Brier_score: 0.08440560982059443 for the threshold: 0.4099999999999998\n",
      "F1_score : 0.5018587360594795, Brier_score: 0.08440560982059443 for the threshold: 0.4199999999999998\n",
      "F1_score : 0.49765258215962443, Brier_score: 0.08440560982059443 for the threshold: 0.4299999999999998\n",
      "F1_score : 0.49146110056925996, Brier_score: 0.08440560982059443 for the threshold: 0.43999999999999984\n",
      "F1_score : 0.4871060171919771, Brier_score: 0.08440560982059443 for the threshold: 0.44999999999999984\n",
      "F1_score : 0.4816247582205029, Brier_score: 0.08440560982059443 for the threshold: 0.45999999999999985\n",
      "F1_score : 0.4763779527559055, Brier_score: 0.08440560982059443 for the threshold: 0.46999999999999986\n",
      "F1_score : 0.47713717693836977, Brier_score: 0.08440560982059443 for the threshold: 0.47999999999999976\n",
      "F1_score : 0.4755244755244755, Brier_score: 0.08440560982059443 for the threshold: 0.48999999999999977\n",
      "F1_score : 0.4634146341463415, Brier_score: 0.08440560982059443 for the threshold: 0.4999999999999998\n",
      "F1_score : 0.4574358974358974, Brier_score: 0.08440560982059443 for the threshold: 0.5099999999999998\n",
      "F1_score : 0.438871473354232, Brier_score: 0.08440560982059443 for the threshold: 0.5199999999999998\n",
      "F1_score : 0.4312896405919662, Brier_score: 0.08440560982059443 for the threshold: 0.5299999999999998\n",
      "F1_score : 0.43070362473347545, Brier_score: 0.08440560982059443 for the threshold: 0.5399999999999998\n",
      "F1_score : 0.41810344827586204, Brier_score: 0.08440560982059443 for the threshold: 0.5499999999999998\n",
      "F1_score : 0.4164859002169197, Brier_score: 0.08440560982059443 for the threshold: 0.5599999999999997\n",
      "F1_score : 0.4126637554585153, Brier_score: 0.08440560982059443 for the threshold: 0.5699999999999997\n",
      "F1_score : 0.40618101545253865, Brier_score: 0.08440560982059443 for the threshold: 0.5799999999999997\n",
      "F1_score : 0.4057649667405765, Brier_score: 0.08440560982059443 for the threshold: 0.5899999999999997\n",
      "F1_score : 0.40089086859688194, Brier_score: 0.08440560982059443 for the threshold: 0.5999999999999998\n",
      "F1_score : 0.3901345291479821, Brier_score: 0.08440560982059443 for the threshold: 0.6099999999999998\n",
      "F1_score : 0.37188208616780044, Brier_score: 0.08440560982059443 for the threshold: 0.6199999999999998\n",
      "F1_score : 0.36384439359267734, Brier_score: 0.08440560982059443 for the threshold: 0.6299999999999997\n",
      "F1_score : 0.354577056778679, Brier_score: 0.08440560982059443 for the threshold: 0.6399999999999997\n",
      "F1_score : 0.3538998835855646, Brier_score: 0.08440560982059443 for the threshold: 0.6499999999999997\n",
      "F1_score : 0.3508771929824561, Brier_score: 0.08440560982059443 for the threshold: 0.6599999999999997\n",
      "F1_score : 0.34238488783943327, Brier_score: 0.08440560982059443 for the threshold: 0.6699999999999997\n",
      "F1_score : 0.3333333333333333, Brier_score: 0.08440560982059443 for the threshold: 0.6799999999999997\n",
      "F1_score : 0.32735961768219835, Brier_score: 0.08440560982059443 for the threshold: 0.6899999999999997\n",
      "F1_score : 0.3208685162846803, Brier_score: 0.08440560982059443 for the threshold: 0.6999999999999996\n",
      "F1_score : 0.3134872417982989, Brier_score: 0.08440560982059443 for the threshold: 0.7099999999999996\n",
      "F1_score : 0.3080684596577017, Brier_score: 0.08440560982059443 for the threshold: 0.7199999999999996\n",
      "F1_score : 0.30049261083743845, Brier_score: 0.08440560982059443 for the threshold: 0.7299999999999996\n",
      "F1_score : 0.2949194547707559, Brier_score: 0.08440560982059443 for the threshold: 0.7399999999999997\n",
      "F1_score : 0.2889165628891656, Brier_score: 0.08440560982059443 for the threshold: 0.7499999999999997\n",
      "F1_score : 0.2828535669586984, Brier_score: 0.08440560982059443 for the threshold: 0.7599999999999997\n",
      "F1_score : 0.2698612862547289, Brier_score: 0.08440560982059443 for the threshold: 0.7699999999999997\n",
      "F1_score : 0.2639593908629442, Brier_score: 0.08440560982059443 for the threshold: 0.7799999999999997\n",
      "F1_score : 0.25831202046035806, Brier_score: 0.08440560982059443 for the threshold: 0.7899999999999996\n",
      "F1_score : 0.24484536082474226, Brier_score: 0.08440560982059443 for the threshold: 0.7999999999999996\n",
      "F1_score : 0.23605706874189364, Brier_score: 0.08440560982059443 for the threshold: 0.8099999999999996\n",
      "F1_score : 0.2297650130548303, Brier_score: 0.08440560982059443 for the threshold: 0.8199999999999996\n",
      "F1_score : 0.22134387351778656, Brier_score: 0.08440560982059443 for the threshold: 0.8299999999999996\n",
      "F1_score : 0.20533333333333334, Brier_score: 0.08440560982059443 for the threshold: 0.8399999999999996\n",
      "F1_score : 0.18132611637347767, Brier_score: 0.08440560982059443 for the threshold: 0.8499999999999996\n",
      "F1_score : 0.16393442622950818, Brier_score: 0.08440560982059443 for the threshold: 0.8599999999999995\n",
      "F1_score : 0.15426997245179064, Brier_score: 0.08440560982059443 for the threshold: 0.8699999999999996\n",
      "F1_score : 0.13649025069637882, Brier_score: 0.08440560982059443 for the threshold: 0.8799999999999996\n",
      "F1_score : 0.1156558533145275, Brier_score: 0.08440560982059443 for the threshold: 0.8899999999999996\n",
      "Best threshold: 0.2599999999999999 for the f1_score: 0.5598845598845599\n"
     ]
    }
   ],
   "source": [
    "best_score = 0\n",
    "best_threshold = -1\n",
    "\n",
    "for threshold in thresholds:\n",
    "    predicted_classes = (predicted_probabilities >= threshold).astype(int)\n",
    "\n",
    "    f1 = f1_score(predicted_classes , y_test)\n",
    "    brier = brier_score_loss(y_test, predicted_probabilities)\n",
    "    print(f'F1_score : {f1}, Brier_score: {brier} for the threshold: {threshold}')\n",
    "    if f1 > best_score:\n",
    "        best_score = f1\n",
    "        best_threshold = threshold\n",
    "\n",
    "print(f'Best threshold: {best_threshold} for the f1_score: {best_score}')"
   ]
  },
  {
   "cell_type": "code",
   "execution_count": 120,
   "id": "6646ee9d-393c-4971-b3a5-282cf5f89e46",
   "metadata": {},
   "outputs": [
    {
     "data": {
      "text/html": [
       "<div>\n",
       "<style scoped>\n",
       "    .dataframe tbody tr th:only-of-type {\n",
       "        vertical-align: middle;\n",
       "    }\n",
       "\n",
       "    .dataframe tbody tr th {\n",
       "        vertical-align: top;\n",
       "    }\n",
       "\n",
       "    .dataframe thead th {\n",
       "        text-align: right;\n",
       "    }\n",
       "</style>\n",
       "<table border=\"1\" class=\"dataframe\">\n",
       "  <thead>\n",
       "    <tr style=\"text-align: right;\">\n",
       "      <th></th>\n",
       "      <th>country</th>\n",
       "      <th>year</th>\n",
       "      <th>uniqueid</th>\n",
       "      <th>location_type</th>\n",
       "      <th>cellphone_access</th>\n",
       "      <th>household_size</th>\n",
       "      <th>age_of_respondent</th>\n",
       "      <th>gender_of_respondent</th>\n",
       "      <th>relationship_with_head</th>\n",
       "      <th>marital_status</th>\n",
       "      <th>education_level</th>\n",
       "      <th>job_type</th>\n",
       "      <th>formatted</th>\n",
       "    </tr>\n",
       "  </thead>\n",
       "  <tbody>\n",
       "    <tr>\n",
       "      <th>0</th>\n",
       "      <td>Kenya</td>\n",
       "      <td>18</td>\n",
       "      <td>uniqueid_6056</td>\n",
       "      <td>Urban</td>\n",
       "      <td>1</td>\n",
       "      <td>3</td>\n",
       "      <td>30</td>\n",
       "      <td>Male</td>\n",
       "      <td>Head of Household</td>\n",
       "      <td>Married/Living together</td>\n",
       "      <td>Secondary education</td>\n",
       "      <td>Formally employed Government</td>\n",
       "      <td>uniqueid_6056 x Kenya</td>\n",
       "    </tr>\n",
       "    <tr>\n",
       "      <th>1</th>\n",
       "      <td>Kenya</td>\n",
       "      <td>18</td>\n",
       "      <td>uniqueid_6060</td>\n",
       "      <td>Urban</td>\n",
       "      <td>1</td>\n",
       "      <td>7</td>\n",
       "      <td>51</td>\n",
       "      <td>Male</td>\n",
       "      <td>Head of Household</td>\n",
       "      <td>Married/Living together</td>\n",
       "      <td>Vocational/Specialised training</td>\n",
       "      <td>Formally employed Private</td>\n",
       "      <td>uniqueid_6060 x Kenya</td>\n",
       "    </tr>\n",
       "    <tr>\n",
       "      <th>2</th>\n",
       "      <td>Kenya</td>\n",
       "      <td>18</td>\n",
       "      <td>uniqueid_6065</td>\n",
       "      <td>Rural</td>\n",
       "      <td>0</td>\n",
       "      <td>3</td>\n",
       "      <td>77</td>\n",
       "      <td>Female</td>\n",
       "      <td>Parent</td>\n",
       "      <td>Married/Living together</td>\n",
       "      <td>No formal education</td>\n",
       "      <td>Remittance Dependent</td>\n",
       "      <td>uniqueid_6065 x Kenya</td>\n",
       "    </tr>\n",
       "    <tr>\n",
       "      <th>3</th>\n",
       "      <td>Kenya</td>\n",
       "      <td>18</td>\n",
       "      <td>uniqueid_6072</td>\n",
       "      <td>Rural</td>\n",
       "      <td>0</td>\n",
       "      <td>6</td>\n",
       "      <td>39</td>\n",
       "      <td>Female</td>\n",
       "      <td>Head of Household</td>\n",
       "      <td>Married/Living together</td>\n",
       "      <td>Primary education</td>\n",
       "      <td>Remittance Dependent</td>\n",
       "      <td>uniqueid_6072 x Kenya</td>\n",
       "    </tr>\n",
       "    <tr>\n",
       "      <th>4</th>\n",
       "      <td>Kenya</td>\n",
       "      <td>18</td>\n",
       "      <td>uniqueid_6073</td>\n",
       "      <td>Urban</td>\n",
       "      <td>0</td>\n",
       "      <td>3</td>\n",
       "      <td>16</td>\n",
       "      <td>Male</td>\n",
       "      <td>Child</td>\n",
       "      <td>Single/Never Married</td>\n",
       "      <td>Secondary education</td>\n",
       "      <td>Remittance Dependent</td>\n",
       "      <td>uniqueid_6073 x Kenya</td>\n",
       "    </tr>\n",
       "    <tr>\n",
       "      <th>...</th>\n",
       "      <td>...</td>\n",
       "      <td>...</td>\n",
       "      <td>...</td>\n",
       "      <td>...</td>\n",
       "      <td>...</td>\n",
       "      <td>...</td>\n",
       "      <td>...</td>\n",
       "      <td>...</td>\n",
       "      <td>...</td>\n",
       "      <td>...</td>\n",
       "      <td>...</td>\n",
       "      <td>...</td>\n",
       "      <td>...</td>\n",
       "    </tr>\n",
       "    <tr>\n",
       "      <th>10081</th>\n",
       "      <td>Uganda</td>\n",
       "      <td>18</td>\n",
       "      <td>uniqueid_2998</td>\n",
       "      <td>Rural</td>\n",
       "      <td>0</td>\n",
       "      <td>2</td>\n",
       "      <td>62</td>\n",
       "      <td>Female</td>\n",
       "      <td>Spouse</td>\n",
       "      <td>Married/Living together</td>\n",
       "      <td>Primary education</td>\n",
       "      <td>Self employed</td>\n",
       "      <td>uniqueid_2998 x Uganda</td>\n",
       "    </tr>\n",
       "    <tr>\n",
       "      <th>10082</th>\n",
       "      <td>Uganda</td>\n",
       "      <td>18</td>\n",
       "      <td>uniqueid_2999</td>\n",
       "      <td>Urban</td>\n",
       "      <td>1</td>\n",
       "      <td>8</td>\n",
       "      <td>42</td>\n",
       "      <td>Male</td>\n",
       "      <td>Head of Household</td>\n",
       "      <td>Married/Living together</td>\n",
       "      <td>Primary education</td>\n",
       "      <td>Self employed</td>\n",
       "      <td>uniqueid_2999 x Uganda</td>\n",
       "    </tr>\n",
       "    <tr>\n",
       "      <th>10083</th>\n",
       "      <td>Uganda</td>\n",
       "      <td>18</td>\n",
       "      <td>uniqueid_3000</td>\n",
       "      <td>Urban</td>\n",
       "      <td>1</td>\n",
       "      <td>1</td>\n",
       "      <td>39</td>\n",
       "      <td>Male</td>\n",
       "      <td>Head of Household</td>\n",
       "      <td>Single/Never Married</td>\n",
       "      <td>Secondary education</td>\n",
       "      <td>Other Income</td>\n",
       "      <td>uniqueid_3000 x Uganda</td>\n",
       "    </tr>\n",
       "    <tr>\n",
       "      <th>10084</th>\n",
       "      <td>Uganda</td>\n",
       "      <td>18</td>\n",
       "      <td>uniqueid_3001</td>\n",
       "      <td>Rural</td>\n",
       "      <td>1</td>\n",
       "      <td>6</td>\n",
       "      <td>28</td>\n",
       "      <td>Female</td>\n",
       "      <td>Spouse</td>\n",
       "      <td>Married/Living together</td>\n",
       "      <td>Primary education</td>\n",
       "      <td>Self employed</td>\n",
       "      <td>uniqueid_3001 x Uganda</td>\n",
       "    </tr>\n",
       "    <tr>\n",
       "      <th>10085</th>\n",
       "      <td>Uganda</td>\n",
       "      <td>18</td>\n",
       "      <td>uniqueid_3002</td>\n",
       "      <td>Urban</td>\n",
       "      <td>1</td>\n",
       "      <td>7</td>\n",
       "      <td>16</td>\n",
       "      <td>Male</td>\n",
       "      <td>Other relative</td>\n",
       "      <td>Single/Never Married</td>\n",
       "      <td>Secondary education</td>\n",
       "      <td>Other Income</td>\n",
       "      <td>uniqueid_3002 x Uganda</td>\n",
       "    </tr>\n",
       "  </tbody>\n",
       "</table>\n",
       "<p>10086 rows × 13 columns</p>\n",
       "</div>"
      ],
      "text/plain": [
       "      country  year       uniqueid location_type  cellphone_access  \\\n",
       "0       Kenya    18  uniqueid_6056         Urban                 1   \n",
       "1       Kenya    18  uniqueid_6060         Urban                 1   \n",
       "2       Kenya    18  uniqueid_6065         Rural                 0   \n",
       "3       Kenya    18  uniqueid_6072         Rural                 0   \n",
       "4       Kenya    18  uniqueid_6073         Urban                 0   \n",
       "...       ...   ...            ...           ...               ...   \n",
       "10081  Uganda    18  uniqueid_2998         Rural                 0   \n",
       "10082  Uganda    18  uniqueid_2999         Urban                 1   \n",
       "10083  Uganda    18  uniqueid_3000         Urban                 1   \n",
       "10084  Uganda    18  uniqueid_3001         Rural                 1   \n",
       "10085  Uganda    18  uniqueid_3002         Urban                 1   \n",
       "\n",
       "       household_size  age_of_respondent gender_of_respondent  \\\n",
       "0                   3                 30                 Male   \n",
       "1                   7                 51                 Male   \n",
       "2                   3                 77               Female   \n",
       "3                   6                 39               Female   \n",
       "4                   3                 16                 Male   \n",
       "...               ...                ...                  ...   \n",
       "10081               2                 62               Female   \n",
       "10082               8                 42                 Male   \n",
       "10083               1                 39                 Male   \n",
       "10084               6                 28               Female   \n",
       "10085               7                 16                 Male   \n",
       "\n",
       "      relationship_with_head           marital_status  \\\n",
       "0          Head of Household  Married/Living together   \n",
       "1          Head of Household  Married/Living together   \n",
       "2                     Parent  Married/Living together   \n",
       "3          Head of Household  Married/Living together   \n",
       "4                      Child     Single/Never Married   \n",
       "...                      ...                      ...   \n",
       "10081                 Spouse  Married/Living together   \n",
       "10082      Head of Household  Married/Living together   \n",
       "10083      Head of Household     Single/Never Married   \n",
       "10084                 Spouse  Married/Living together   \n",
       "10085         Other relative     Single/Never Married   \n",
       "\n",
       "                       education_level                      job_type  \\\n",
       "0                  Secondary education  Formally employed Government   \n",
       "1      Vocational/Specialised training     Formally employed Private   \n",
       "2                  No formal education          Remittance Dependent   \n",
       "3                    Primary education          Remittance Dependent   \n",
       "4                  Secondary education          Remittance Dependent   \n",
       "...                                ...                           ...   \n",
       "10081                Primary education                 Self employed   \n",
       "10082                Primary education                 Self employed   \n",
       "10083              Secondary education                  Other Income   \n",
       "10084                Primary education                 Self employed   \n",
       "10085              Secondary education                  Other Income   \n",
       "\n",
       "                    formatted  \n",
       "0       uniqueid_6056 x Kenya  \n",
       "1       uniqueid_6060 x Kenya  \n",
       "2       uniqueid_6065 x Kenya  \n",
       "3       uniqueid_6072 x Kenya  \n",
       "4       uniqueid_6073 x Kenya  \n",
       "...                       ...  \n",
       "10081  uniqueid_2998 x Uganda  \n",
       "10082  uniqueid_2999 x Uganda  \n",
       "10083  uniqueid_3000 x Uganda  \n",
       "10084  uniqueid_3001 x Uganda  \n",
       "10085  uniqueid_3002 x Uganda  \n",
       "\n",
       "[10086 rows x 13 columns]"
      ]
     },
     "execution_count": 120,
     "metadata": {},
     "output_type": "execute_result"
    }
   ],
   "source": [
    "df_testing = pd.read_csv('C:\\\\Users\\\\retr0\\\\Downloads\\\\financial-inclusion-in-africa-iaio-practice-challenge20240828-1156-gya18v\\\\Test.csv')\n",
    "\n",
    "df_testing['year'] = df_testing['year'] % 100\n",
    "df_testing['cellphone_access'] = df_testing['cellphone_access'].map({'Yes' : 1, 'No' : 0})\n",
    "\n",
    "df_testing['formatted'] = df_testing['uniqueid'] + ' x ' + df_testing['country']\n",
    "df_testing"
   ]
  },
  {
   "cell_type": "code",
   "execution_count": 122,
   "id": "f58711ff-4c09-411e-aa9a-a5d8ec136bb2",
   "metadata": {},
   "outputs": [],
   "source": [
    "X_testing = df_testing.drop(['uniqueid', 'formatted'], axis = 1)"
   ]
  },
  {
   "cell_type": "code",
   "execution_count": 100,
   "id": "5e4fe12c-3444-4076-8fa1-56bad9a12b3a",
   "metadata": {},
   "outputs": [
    {
     "data": {
      "text/html": [
       "<div>\n",
       "<style scoped>\n",
       "    .dataframe tbody tr th:only-of-type {\n",
       "        vertical-align: middle;\n",
       "    }\n",
       "\n",
       "    .dataframe tbody tr th {\n",
       "        vertical-align: top;\n",
       "    }\n",
       "\n",
       "    .dataframe thead th {\n",
       "        text-align: right;\n",
       "    }\n",
       "</style>\n",
       "<table border=\"1\" class=\"dataframe\">\n",
       "  <thead>\n",
       "    <tr style=\"text-align: right;\">\n",
       "      <th></th>\n",
       "      <th>country</th>\n",
       "      <th>year</th>\n",
       "      <th>location_type</th>\n",
       "      <th>cellphone_access</th>\n",
       "      <th>household_size</th>\n",
       "      <th>age_of_respondent</th>\n",
       "      <th>gender_of_respondent</th>\n",
       "      <th>relationship_with_head</th>\n",
       "      <th>marital_status</th>\n",
       "      <th>education_level</th>\n",
       "      <th>job_type</th>\n",
       "    </tr>\n",
       "  </thead>\n",
       "  <tbody>\n",
       "    <tr>\n",
       "      <th>0</th>\n",
       "      <td>Kenya</td>\n",
       "      <td>18</td>\n",
       "      <td>Urban</td>\n",
       "      <td>1</td>\n",
       "      <td>3</td>\n",
       "      <td>30</td>\n",
       "      <td>Male</td>\n",
       "      <td>Head of Household</td>\n",
       "      <td>Married/Living together</td>\n",
       "      <td>Secondary education</td>\n",
       "      <td>Formally employed Government</td>\n",
       "    </tr>\n",
       "    <tr>\n",
       "      <th>1</th>\n",
       "      <td>Kenya</td>\n",
       "      <td>18</td>\n",
       "      <td>Urban</td>\n",
       "      <td>1</td>\n",
       "      <td>7</td>\n",
       "      <td>51</td>\n",
       "      <td>Male</td>\n",
       "      <td>Head of Household</td>\n",
       "      <td>Married/Living together</td>\n",
       "      <td>Vocational/Specialised training</td>\n",
       "      <td>Formally employed Private</td>\n",
       "    </tr>\n",
       "    <tr>\n",
       "      <th>2</th>\n",
       "      <td>Kenya</td>\n",
       "      <td>18</td>\n",
       "      <td>Rural</td>\n",
       "      <td>0</td>\n",
       "      <td>3</td>\n",
       "      <td>77</td>\n",
       "      <td>Female</td>\n",
       "      <td>Parent</td>\n",
       "      <td>Married/Living together</td>\n",
       "      <td>No formal education</td>\n",
       "      <td>Remittance Dependent</td>\n",
       "    </tr>\n",
       "    <tr>\n",
       "      <th>3</th>\n",
       "      <td>Kenya</td>\n",
       "      <td>18</td>\n",
       "      <td>Rural</td>\n",
       "      <td>0</td>\n",
       "      <td>6</td>\n",
       "      <td>39</td>\n",
       "      <td>Female</td>\n",
       "      <td>Head of Household</td>\n",
       "      <td>Married/Living together</td>\n",
       "      <td>Primary education</td>\n",
       "      <td>Remittance Dependent</td>\n",
       "    </tr>\n",
       "    <tr>\n",
       "      <th>4</th>\n",
       "      <td>Kenya</td>\n",
       "      <td>18</td>\n",
       "      <td>Urban</td>\n",
       "      <td>0</td>\n",
       "      <td>3</td>\n",
       "      <td>16</td>\n",
       "      <td>Male</td>\n",
       "      <td>Child</td>\n",
       "      <td>Single/Never Married</td>\n",
       "      <td>Secondary education</td>\n",
       "      <td>Remittance Dependent</td>\n",
       "    </tr>\n",
       "    <tr>\n",
       "      <th>...</th>\n",
       "      <td>...</td>\n",
       "      <td>...</td>\n",
       "      <td>...</td>\n",
       "      <td>...</td>\n",
       "      <td>...</td>\n",
       "      <td>...</td>\n",
       "      <td>...</td>\n",
       "      <td>...</td>\n",
       "      <td>...</td>\n",
       "      <td>...</td>\n",
       "      <td>...</td>\n",
       "    </tr>\n",
       "    <tr>\n",
       "      <th>10081</th>\n",
       "      <td>Uganda</td>\n",
       "      <td>18</td>\n",
       "      <td>Rural</td>\n",
       "      <td>0</td>\n",
       "      <td>2</td>\n",
       "      <td>62</td>\n",
       "      <td>Female</td>\n",
       "      <td>Spouse</td>\n",
       "      <td>Married/Living together</td>\n",
       "      <td>Primary education</td>\n",
       "      <td>Self employed</td>\n",
       "    </tr>\n",
       "    <tr>\n",
       "      <th>10082</th>\n",
       "      <td>Uganda</td>\n",
       "      <td>18</td>\n",
       "      <td>Urban</td>\n",
       "      <td>1</td>\n",
       "      <td>8</td>\n",
       "      <td>42</td>\n",
       "      <td>Male</td>\n",
       "      <td>Head of Household</td>\n",
       "      <td>Married/Living together</td>\n",
       "      <td>Primary education</td>\n",
       "      <td>Self employed</td>\n",
       "    </tr>\n",
       "    <tr>\n",
       "      <th>10083</th>\n",
       "      <td>Uganda</td>\n",
       "      <td>18</td>\n",
       "      <td>Urban</td>\n",
       "      <td>1</td>\n",
       "      <td>1</td>\n",
       "      <td>39</td>\n",
       "      <td>Male</td>\n",
       "      <td>Head of Household</td>\n",
       "      <td>Single/Never Married</td>\n",
       "      <td>Secondary education</td>\n",
       "      <td>Other Income</td>\n",
       "    </tr>\n",
       "    <tr>\n",
       "      <th>10084</th>\n",
       "      <td>Uganda</td>\n",
       "      <td>18</td>\n",
       "      <td>Rural</td>\n",
       "      <td>1</td>\n",
       "      <td>6</td>\n",
       "      <td>28</td>\n",
       "      <td>Female</td>\n",
       "      <td>Spouse</td>\n",
       "      <td>Married/Living together</td>\n",
       "      <td>Primary education</td>\n",
       "      <td>Self employed</td>\n",
       "    </tr>\n",
       "    <tr>\n",
       "      <th>10085</th>\n",
       "      <td>Uganda</td>\n",
       "      <td>18</td>\n",
       "      <td>Urban</td>\n",
       "      <td>1</td>\n",
       "      <td>7</td>\n",
       "      <td>16</td>\n",
       "      <td>Male</td>\n",
       "      <td>Other relative</td>\n",
       "      <td>Single/Never Married</td>\n",
       "      <td>Secondary education</td>\n",
       "      <td>Other Income</td>\n",
       "    </tr>\n",
       "  </tbody>\n",
       "</table>\n",
       "<p>10086 rows × 11 columns</p>\n",
       "</div>"
      ],
      "text/plain": [
       "      country  year location_type  cellphone_access  household_size  \\\n",
       "0       Kenya    18         Urban                 1               3   \n",
       "1       Kenya    18         Urban                 1               7   \n",
       "2       Kenya    18         Rural                 0               3   \n",
       "3       Kenya    18         Rural                 0               6   \n",
       "4       Kenya    18         Urban                 0               3   \n",
       "...       ...   ...           ...               ...             ...   \n",
       "10081  Uganda    18         Rural                 0               2   \n",
       "10082  Uganda    18         Urban                 1               8   \n",
       "10083  Uganda    18         Urban                 1               1   \n",
       "10084  Uganda    18         Rural                 1               6   \n",
       "10085  Uganda    18         Urban                 1               7   \n",
       "\n",
       "       age_of_respondent gender_of_respondent relationship_with_head  \\\n",
       "0                     30                 Male      Head of Household   \n",
       "1                     51                 Male      Head of Household   \n",
       "2                     77               Female                 Parent   \n",
       "3                     39               Female      Head of Household   \n",
       "4                     16                 Male                  Child   \n",
       "...                  ...                  ...                    ...   \n",
       "10081                 62               Female                 Spouse   \n",
       "10082                 42                 Male      Head of Household   \n",
       "10083                 39                 Male      Head of Household   \n",
       "10084                 28               Female                 Spouse   \n",
       "10085                 16                 Male         Other relative   \n",
       "\n",
       "                marital_status                  education_level  \\\n",
       "0      Married/Living together              Secondary education   \n",
       "1      Married/Living together  Vocational/Specialised training   \n",
       "2      Married/Living together              No formal education   \n",
       "3      Married/Living together                Primary education   \n",
       "4         Single/Never Married              Secondary education   \n",
       "...                        ...                              ...   \n",
       "10081  Married/Living together                Primary education   \n",
       "10082  Married/Living together                Primary education   \n",
       "10083     Single/Never Married              Secondary education   \n",
       "10084  Married/Living together                Primary education   \n",
       "10085     Single/Never Married              Secondary education   \n",
       "\n",
       "                           job_type  \n",
       "0      Formally employed Government  \n",
       "1         Formally employed Private  \n",
       "2              Remittance Dependent  \n",
       "3              Remittance Dependent  \n",
       "4              Remittance Dependent  \n",
       "...                             ...  \n",
       "10081                 Self employed  \n",
       "10082                 Self employed  \n",
       "10083                  Other Income  \n",
       "10084                 Self employed  \n",
       "10085                  Other Income  \n",
       "\n",
       "[10086 rows x 11 columns]"
      ]
     },
     "execution_count": 100,
     "metadata": {},
     "output_type": "execute_result"
    }
   ],
   "source": [
    "X_testing"
   ]
  },
  {
   "cell_type": "code",
   "execution_count": 124,
   "id": "83da3917-329e-41d3-a287-251169b22bb0",
   "metadata": {},
   "outputs": [
    {
     "data": {
      "text/plain": [
       "array([1, 1, 0, ..., 0, 0, 0])"
      ]
     },
     "execution_count": 124,
     "metadata": {},
     "output_type": "execute_result"
    }
   ],
   "source": [
    "y_preds_proba = (model.predict_proba(X_testing)[:, 1] >= 0.26).astype(int)\n",
    "y_preds_proba"
   ]
  },
  {
   "cell_type": "code",
   "execution_count": 126,
   "id": "694713da-d9c0-4b92-a65b-4c799108793b",
   "metadata": {},
   "outputs": [],
   "source": [
    "output = pd.DataFrame({'uniqueid' : df_testing['formatted'], 'bank_account' : model.predict(X_testing)})\n",
    "output.to_csv('submission_threshold_alldata.csv', index = False)"
   ]
  },
  {
   "cell_type": "code",
   "execution_count": null,
   "id": "dd8456e5-5819-440a-8826-1812da71d310",
   "metadata": {},
   "outputs": [],
   "source": []
  }
 ],
 "metadata": {
  "kernelspec": {
   "display_name": "Python 3 (ipykernel)",
   "language": "python",
   "name": "python3"
  },
  "language_info": {
   "codemirror_mode": {
    "name": "ipython",
    "version": 3
   },
   "file_extension": ".py",
   "mimetype": "text/x-python",
   "name": "python",
   "nbconvert_exporter": "python",
   "pygments_lexer": "ipython3",
   "version": "3.12.4"
  }
 },
 "nbformat": 4,
 "nbformat_minor": 5
}
